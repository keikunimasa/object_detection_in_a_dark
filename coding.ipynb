{
 "cells": [
  {
   "cell_type": "code",
   "execution_count": null,
   "metadata": {},
   "outputs": [],
   "source": []
  },
  {
   "cell_type": "markdown",
   "metadata": {},
   "source": [
    "# 暗闇での物体検知・識別\n",
    "## 目的\n",
    "画像解析や物体検知技術は自動車などで今後も広がっていく技術である。しかし、雨天時や暗闇、明度に差のあるシチュエーションではセンサーや認識が誤作動を起こすことがある。\n",
    "ここでは、暗闇で撮影された画像、もしくは、暗闇での写真となるように画像にノイズ加工を行ったデータに対して、CNNが正しく物体検出ができることを実現することを目指す。\n",
    "\n",
    "## 対象\n",
    "様々なシチュエーションの中で、ここでは暗闇での撮影を前提に処理を考える。\n",
    "\n",
    "## 参考論文・文献\n",
    "ディープラーニングを用いて暗闇の中で「見えない」オブジェクトを明らかにする（2019年 1月31日）https://ai-scholar.tech/articles/machine-learning/ai-dark-69\n",
    "### Qiita\n",
    "https://qiita.com/TrashBoxx/items/2d441e46643f73c0ca19\n",
    "\n",
    "### 参考講義/コーディング演習\n",
    "Section: 9,10\n"
   ]
  },
  {
   "cell_type": "markdown",
   "metadata": {},
   "source": [
    "使用モデル：ResNet18・ResNet50"
   ]
  },
  {
   "cell_type": "code",
   "execution_count": null,
   "metadata": {},
   "outputs": [],
   "source": []
  }
 ],
 "metadata": {
  "language_info": {
   "name": "python"
  }
 },
 "nbformat": 4,
 "nbformat_minor": 2
}
